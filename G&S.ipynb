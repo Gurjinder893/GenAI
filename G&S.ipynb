{
  "nbformat": 4,
  "nbformat_minor": 0,
  "metadata": {
    "colab": {
      "provenance": [],
      "authorship_tag": "ABX9TyNzZBO+szoUjmZfwjybxHSg",
      "include_colab_link": true
    },
    "kernelspec": {
      "name": "python3",
      "display_name": "Python 3"
    },
    "language_info": {
      "name": "python"
    }
  },
  "cells": [
    {
      "cell_type": "markdown",
      "metadata": {
        "id": "view-in-github",
        "colab_type": "text"
      },
      "source": [
        "<a href=\"https://colab.research.google.com/github/Gurjinder893/GenAI/blob/main/G%26S.ipynb\" target=\"_parent\"><img src=\"https://colab.research.google.com/assets/colab-badge.svg\" alt=\"Open In Colab\"/></a>"
      ]
    },
    {
      "cell_type": "markdown",
      "source": [
        "# Group Members\n",
        "\n",
        "1. _**Member 1**_\n",
        "   - **ID:** 4343893\n",
        "   - **Name:** Gurjinder Singh\n",
        "\n",
        "2. _**Member 2**_\n",
        "   - **ID:** 4340351\n",
        "   - **Name:** Sajan Kalra"
      ],
      "metadata": {
        "id": "lL4zmh_SFHO8"
      }
    }
  ]
}